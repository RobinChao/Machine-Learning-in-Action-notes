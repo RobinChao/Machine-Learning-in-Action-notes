{
 "cells": [
  {
   "cell_type": "markdown",
   "metadata": {},
   "source": [
    "# 第4章  基于概率论的分类方法：朴素贝叶斯\n",
    "\n",
    "## 本章内容\n",
    "\n",
    "* 使用概率分布进行分类\n",
    "* 学习朴素贝叶斯分类器\n",
    "* 了解RSS源数据\n",
    "* 使用朴素贝叶斯来分析不同地区的态度"
   ]
  },
  {
   "cell_type": "markdown",
   "metadata": {},
   "source": [
    "## 4.1 朴素贝叶斯 概述\n",
    "\n",
    "**朴素贝叶斯** 是一类分类算法的总称，这类算法均以贝叶斯定理为基础，故统称为贝叶斯分类。朴素贝叶斯是贝叶斯决策理论的一部分，因此在开始朴素贝叶斯之前，我们先了解一下贝叶斯决策理论。\n"
   ]
  },
  {
   "cell_type": "markdown",
   "metadata": {},
   "source": [
    "## 4.2 朴素贝叶斯理论 & 条件概率\n",
    "\n",
    "### 4.2.1 贝叶斯理论\n",
    "\n",
    "假设我们有一个数据集，它有两类数据组成，如下图所示：\n",
    "\n",
    "![](images/sample_plot.png)\n",
    "\n",
    "我们用 $p1(x, y)$ 表示数据点 $(x, y)$属于类别 1 的概率，用 $p2(x, y)$ 表示数据点 $(x, y)$属于类别 2 的概率，那么对于一个新的数据点$(x, y)$，可以用如下的规则判断它的类别：\n",
    "\n",
    "* 如果 $p1(x, y) > p2(x, y)$，那么类别为 1；\n",
    "* 如果 $p2(x, y) > p1(x, y)$，那么类别为 2。\n",
    "\n",
    "也就是说我们会选择高概率对应的累类别，这就是贝叶斯决策理论的核心思想，即选择具有最高概率的决策。"
   ]
  },
  {
   "cell_type": "markdown",
   "metadata": {},
   "source": [
    "### 4.2.2 条件概率\n",
    "\n",
    "假设一个罐子里装了7块石头，其中3块是白色的，4块是黑色的。如果从罐子里随机取出一块石头，那么取出的石头是白色的可能性是多少？由于取石头有7中可能，其中3中为白色，所以取出白色石头的概率为 3/7，同理取出黑色石头的概率是 4/7。\n",
    "\n",
    "假设我们使用 $P(white)$ 表示取到白色石头的概率，其概率值可以通过白色石头数目除以总的石头数得到。\n",
    "\n",
    "![](images/gray_black_stone.png)\n",
    "![](images/two_tone.png)"
   ]
  },
  {
   "cell_type": "markdown",
   "metadata": {},
   "source": [
    "如果事先我们知道石头所在桶的信息会改变的结果的前提下，要计算 $P(white)$ 或者 $P(black)$。嘉定计算的是从 B 桶取到白色石头的概率，这个概率我们记作 $P(white|bucketB)$，读作“在已知石头出自 B 桶的条件下，取出白色石头的概率”，这就是**条件概率（conditional probablity）**。从前一个例子中我们很容易的， $P(white|bucketB) = 1/3，P(white|bucketA) = 1/2$。如何计算的呢？\n",
    "\n",
    "计算公式如下：\n",
    "\n",
    "$$P(white|bucketB) = P(white\\quad and\\quad bucketB|bucketB) / P(bucketB)$$\n",
    "\n",
    "首先，我们用 B 桶中白色石头的个数除以两个桶中总的石头数，得到 $ P(white and buckeB) = 1/7$，其次，由于 B 桶中有3块石头，而总是为7，于是 $P(bucketB) = 3/7 $，于是有：\n",
    "\n",
    "$$P(white|bucketB) = P(white\\quad and\\quad bucketB|bucketB) / P(bucketB) = (1/7)/(3/7) = 1/3$$"
   ]
  },
  {
   "cell_type": "markdown",
   "metadata": {},
   "source": [
    "另外一种计算条件概率的方法称为**贝叶斯准则**，贝叶斯准则告诉我们如何交换条件概率中的条件和结果，即如何结果已知 $P(x|c)$，要求 $P(c|x)$，那么可以使用如下公式计算：\n",
    "\n",
    "$$\\mathscr P(c|x) = \\frac {\\mathscr P(x|c) \\mathscr P(c)}{\\mathscr P(x)}$$"
   ]
  },
  {
   "cell_type": "code",
   "execution_count": null,
   "metadata": {
    "collapsed": true
   },
   "outputs": [],
   "source": []
  }
 ],
 "metadata": {
  "kernelspec": {
   "display_name": "Python 3",
   "language": "python",
   "name": "python3"
  },
  "language_info": {
   "codemirror_mode": {
    "name": "ipython",
    "version": 3
   },
   "file_extension": ".py",
   "mimetype": "text/x-python",
   "name": "python",
   "nbconvert_exporter": "python",
   "pygments_lexer": "ipython3",
   "version": "3.6.0"
  }
 },
 "nbformat": 4,
 "nbformat_minor": 2
}
