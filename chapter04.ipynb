{
 "cells": [
  {
   "cell_type": "markdown",
   "metadata": {},
   "source": [
    "# 第4章  基于概率论的分类方法：朴素贝叶斯\n",
    "\n",
    "## 本章内容\n",
    "\n",
    "* 使用概率分布进行分类\n",
    "* 学习朴素贝叶斯分类器\n",
    "* 了解RSS源数据\n",
    "* 使用朴素贝叶斯来分析不同地区的态度"
   ]
  },
  {
   "cell_type": "markdown",
   "metadata": {},
   "source": [
    "## 4.1 朴素贝叶斯 概述\n",
    "\n",
    "**朴素贝叶斯** 是一类分类算法的总称，这类算法均以贝叶斯定理为基础，故统称为贝叶斯分类。朴素贝叶斯是贝叶斯决策理论的一部分，因此在开始朴素贝叶斯之前，我们先了解一下贝叶斯决策理论。\n"
   ]
  },
  {
   "cell_type": "markdown",
   "metadata": {},
   "source": [
    "## 4.2 朴素贝叶斯理论 & 条件概率\n",
    "\n",
    "### 4.2.1 贝叶斯理论\n",
    "\n",
    "假设我们有一个数据集，它有两类数据组成，如下图所示：\n",
    "\n",
    "![](images/sample_plot.png)\n",
    "\n",
    "我们用 $p1(x, y)$ 表示数据点 $(x, y)$属于类别 1 的概率，用 $p2(x, y)$ 表示数据点 $(x, y)$属于类别 2 的概率，那么对于一个新的数据点$(x, y)$，可以用如下的规则判断它的类别：\n",
    "\n",
    "* 如果 $p1(x, y) > p2(x, y)$，那么类别为 1；\n",
    "* 如果 $p2(x, y) > p1(x, y)$，那么类别为 2。\n",
    "\n",
    "也就是说我们会选择高概率对应的累类别，这就是贝叶斯决策理论的核心思想，即选择具有最高概率的决策。"
   ]
  },
  {
   "cell_type": "code",
   "execution_count": null,
   "metadata": {
    "collapsed": true
   },
   "outputs": [],
   "source": []
  }
 ],
 "metadata": {
  "kernelspec": {
   "display_name": "Python 3",
   "language": "python",
   "name": "python3"
  },
  "language_info": {
   "codemirror_mode": {
    "name": "ipython",
    "version": 3
   },
   "file_extension": ".py",
   "mimetype": "text/x-python",
   "name": "python",
   "nbconvert_exporter": "python",
   "pygments_lexer": "ipython3",
   "version": "3.6.0"
  }
 },
 "nbformat": 4,
 "nbformat_minor": 2
}
